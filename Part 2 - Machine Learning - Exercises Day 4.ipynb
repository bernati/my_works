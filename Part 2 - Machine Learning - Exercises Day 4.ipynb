{
 "cells": [
  {
   "cell_type": "code",
   "execution_count": null,
   "metadata": {},
   "outputs": [],
   "source": [
    "import pandas as pd\n",
    "import numpy as np\n",
    "from sklearn.model_selection import train_test_split, cross_val_score\n",
    "from sklearn.neighbors import KNeighborsClassifier\n",
    "from sklearn.naive_bayes import BernoulliNB\n",
    "from sklearn.svm import SVC\n",
    "from sklearn.preprocessing import StandardScaler\n",
    "from sklearn import metrics\n",
    "import matplotlib.pyplot as plt\n",
    "from sklearn.model_selection import StratifiedKFold\n",
    "from sklearn import svm\n",
    "from sklearn import preprocessing"
   ]
  },
  {
   "cell_type": "markdown",
   "metadata": {},
   "source": [
    "# Exercises. Part 2: Poisonous Mushrooms"
   ]
  },
  {
   "cell_type": "code",
   "execution_count": null,
   "metadata": {},
   "outputs": [],
   "source": [
    "mush = pd.read_csv('agaricus-lepiota.data.csv', header = None, names=['edible', 'cap-shape', 'cap-surface', 'cap-color', \n",
    "                                                                      'bruises?','odor', 'gill-attachment', 'gill-spacing', \n",
    "                                                                      'gill-size','gill-color', 'stalk-shape', 'stalk-root',\n",
    "                                                                      'stalk-surface-above-ring', 'stalk-surface-below-ring',\n",
    "                                                                      'stalk-color-above-ring', 'stalk-color-below-ring',\n",
    "                                                                      'veil-type', 'veil-color', 'ring-number', 'ring-type',\n",
    "                                                                      'spore-print-color', 'population','habitat'])\n",
    "mush.head()"
   ]
  },
  {
   "cell_type": "code",
   "execution_count": null,
   "metadata": {},
   "outputs": [],
   "source": [
    "#Analyze Data\n",
    "mush['stalk-root'].value_counts()"
   ]
  },
  {
   "cell_type": "code",
   "execution_count": null,
   "metadata": {},
   "outputs": [],
   "source": [
    "mush.info()"
   ]
  },
  {
   "cell_type": "code",
   "execution_count": null,
   "metadata": {},
   "outputs": [],
   "source": [
    "#Drop duplicate values\n",
    "duplicated_values = mush.drop_duplicates()\n",
    "duplicated_values.info() #NO DUPLICATED VALUES"
   ]
  },
  {
   "cell_type": "code",
   "execution_count": null,
   "metadata": {},
   "outputs": [],
   "source": [
    "#Drop columns and separate independent and dependent variables\n",
    "X = mush.drop(columns=['edible','stalk-root'])\n",
    "y = mush['edible']"
   ]
  },
  {
   "cell_type": "code",
   "execution_count": null,
   "metadata": {},
   "outputs": [],
   "source": [
    "# See if we have NaNs\n",
    "X.isna().sum()"
   ]
  },
  {
   "cell_type": "code",
   "execution_count": null,
   "metadata": {},
   "outputs": [],
   "source": [
    "# Enconde the categorical variables in order to turn it numerical (Create the function)\n",
    "def one_hot(cat):\n",
    "    dummies = pd.get_dummies(X[cat], prefix = cat)\n",
    "    res = pd.concat([X, dummies], axis = 1)\n",
    "    return(res)"
   ]
  },
  {
   "cell_type": "code",
   "execution_count": null,
   "metadata": {},
   "outputs": [],
   "source": [
    "# Isolate categorical and numerical ones\n",
    "cat_features = X.select_dtypes(include=['object'])\n",
    "num_features = X.select_dtypes(include=['int','float'])"
   ]
  },
  {
   "cell_type": "code",
   "execution_count": null,
   "metadata": {},
   "outputs": [],
   "source": [
    "# Apply the encoding to the categorical columns\n",
    "for cat_var in cat_features:\n",
    "    X = one_hot(cat_var)"
   ]
  },
  {
   "cell_type": "code",
   "execution_count": null,
   "metadata": {},
   "outputs": [],
   "source": [
    "# Drop the old ones from the dataset\n",
    "X.drop(cat_features, axis=1, inplace = True)"
   ]
  },
  {
   "cell_type": "code",
   "execution_count": null,
   "metadata": {},
   "outputs": [],
   "source": [
    "X.head()"
   ]
  },
  {
   "cell_type": "code",
   "execution_count": null,
   "metadata": {},
   "outputs": [],
   "source": [
    "# Convert y into boolean\n",
    "y[y=='p']=0\n",
    "y[y=='e']=1\n",
    "y.head()"
   ]
  },
  {
   "cell_type": "code",
   "execution_count": null,
   "metadata": {},
   "outputs": [],
   "source": [
    "y=y.astype('int')"
   ]
  },
  {
   "cell_type": "code",
   "execution_count": null,
   "metadata": {},
   "outputs": [],
   "source": [
    "print(X.shape, y.shape)"
   ]
  },
  {
   "cell_type": "code",
   "execution_count": null,
   "metadata": {},
   "outputs": [],
   "source": [
    "# Split data train and test\n",
    "X_train, X_test, y_train, y_test = train_test_split(X, y, test_size=.25, random_state=0)\n",
    "\n",
    "print(\"Training set has {} samples.\".format(X_train.shape[0]))\n",
    "print(\"Testing set has {} samples.\".format(X_test.shape[0]))"
   ]
  },
  {
   "cell_type": "markdown",
   "metadata": {},
   "source": [
    "# KNN Model"
   ]
  },
  {
   "cell_type": "code",
   "execution_count": null,
   "metadata": {},
   "outputs": [],
   "source": [
    "# Build KNN model\n",
    "knn = KNeighborsClassifier(n_neighbors=10)"
   ]
  },
  {
   "cell_type": "code",
   "execution_count": null,
   "metadata": {},
   "outputs": [],
   "source": [
    "# Choose K between 1 to 40 to analyze score outcomes\n",
    "k_range = range(1, 40)\n",
    "k_scores = []\n",
    "\n",
    "# Use iteration to caclulate different K in models, then return the average accuracy based on the CV\n",
    "for k in k_range:\n",
    "    knn = KNeighborsClassifier(n_neighbors=k)\n",
    "    scores_knn = cross_val_score(knn, X_train, y_train, cv=5, scoring='roc_auc')\n",
    "    k_scores.append(scores_knn.mean())"
   ]
  },
  {
   "cell_type": "code",
   "execution_count": null,
   "metadata": {},
   "outputs": [],
   "source": [
    "#Look for the maximum score\n",
    "index_max = np.argmax(k_scores)\n",
    "index_max"
   ]
  },
  {
   "cell_type": "code",
   "execution_count": null,
   "metadata": {},
   "outputs": [],
   "source": [
    "k_scores[index_max]"
   ]
  },
  {
   "cell_type": "code",
   "execution_count": null,
   "metadata": {},
   "outputs": [],
   "source": [
    "# index 0 is the best K which gives a value of 1 for ROC_AUC\n",
    "\n",
    "# Plot\n",
    "plt.plot(k_range, k_scores)\n",
    "plt.xlabel('Value of K for KNN')\n",
    "plt.ylabel('Cross-Validated ROC_AUC')\n",
    "plt.show()"
   ]
  },
  {
   "cell_type": "markdown",
   "metadata": {},
   "source": [
    "# Naive Bayes Model"
   ]
  },
  {
   "cell_type": "code",
   "execution_count": null,
   "metadata": {},
   "outputs": [],
   "source": [
    "alpha = [0.01,0.1,1,10,100]\n",
    "n_scores = []\n",
    "\n",
    "for a in alpha:\n",
    "    bnl = BernoulliNB(a)\n",
    "    scores_nb = cross_val_score(bnl, X_train, y_train, cv=5, scoring='roc_auc')\n",
    "    n_scores.append(scores_nb.mean())\n",
    "    print(np.mean(scores_nb))"
   ]
  },
  {
   "cell_type": "code",
   "execution_count": null,
   "metadata": {},
   "outputs": [],
   "source": [
    "max(n_scores)"
   ]
  },
  {
   "cell_type": "code",
   "execution_count": null,
   "metadata": {},
   "outputs": [],
   "source": [
    "# Plot\n",
    "plt.semilogx(alpha, n_scores)\n",
    "plt.xlabel('Value of alpha for Naive Bayes')\n",
    "plt.ylabel('Cross-Validated ROC_AUC')\n",
    "plt.show()"
   ]
  },
  {
   "cell_type": "code",
   "execution_count": null,
   "metadata": {},
   "outputs": [],
   "source": [
    "# 0.01 alpha is the best alpha which gives a value of 0.99898 for ROC_AUC"
   ]
  },
  {
   "cell_type": "markdown",
   "metadata": {},
   "source": [
    "# SVM Model"
   ]
  },
  {
   "cell_type": "code",
   "execution_count": null,
   "metadata": {},
   "outputs": [],
   "source": [
    "alpha = [0.001,0.1,1,10,100,1000]\n",
    "s_scores = []\n",
    "\n",
    "for a in alpha:\n",
    "    svm = SVC(gamma='scale', C = a, probability=True)\n",
    "    scores_svm = cross_val_score(svm, X_train, y_train, cv=5, scoring='roc_auc')\n",
    "    s_scores.append(scores_svm.mean())\n",
    "    print(np.mean(scores_svm))"
   ]
  },
  {
   "cell_type": "code",
   "execution_count": null,
   "metadata": {},
   "outputs": [],
   "source": [
    "max(s_scores)"
   ]
  },
  {
   "cell_type": "code",
   "execution_count": null,
   "metadata": {},
   "outputs": [],
   "source": [
    "# Plot\n",
    "plt.semilogx(alpha, s_scores)\n",
    "plt.xlabel('Value of alpha for SVM')\n",
    "plt.ylabel('Cross-Validated ROC_AUC')\n",
    "plt.show()"
   ]
  },
  {
   "cell_type": "code",
   "execution_count": null,
   "metadata": {},
   "outputs": [],
   "source": [
    "# alpha > 0.1 are the best alpha which gives values of 1 for ROC_AUC"
   ]
  },
  {
   "cell_type": "markdown",
   "metadata": {},
   "source": [
    "# Best overall Model"
   ]
  },
  {
   "cell_type": "code",
   "execution_count": null,
   "metadata": {},
   "outputs": [],
   "source": [
    "# Applying best model\n",
    "best_model = SVC(gamma='scale', C = 10, probability=True)\n",
    "train = best_model.fit(X_train, np.ravel(y_train))"
   ]
  },
  {
   "cell_type": "code",
   "execution_count": null,
   "metadata": {},
   "outputs": [],
   "source": [
    "# Predictions\n",
    "predictions_test = best_model.predict_proba(X_test)[:,1]\n",
    "fpr_test, tpr_test, _ = metrics.roc_curve(y_test, predictions_test)"
   ]
  },
  {
   "cell_type": "code",
   "execution_count": null,
   "metadata": {},
   "outputs": [],
   "source": [
    "# Plotting\n",
    "plt.plot(fpr_test, tpr_test, 'r', linewidth=2, markersize=4)\n",
    "plt.xlabel('False Positive Rate')\n",
    "plt.ylabel('True Positive Rate')\n",
    "plt.ylim([0.0, 1.05])\n",
    "plt.xlim([0.0, 1.0])\n",
    "plt.title('ROC curve')\n",
    "plt.show()"
   ]
  },
  {
   "cell_type": "code",
   "execution_count": null,
   "metadata": {},
   "outputs": [],
   "source": []
  }
 ],
 "metadata": {
  "kernelspec": {
   "display_name": "Python 3",
   "language": "python",
   "name": "python3"
  },
  "language_info": {
   "codemirror_mode": {
    "name": "ipython",
    "version": 3
   },
   "file_extension": ".py",
   "mimetype": "text/x-python",
   "name": "python",
   "nbconvert_exporter": "python",
   "pygments_lexer": "ipython3",
   "version": "3.6.7"
  }
 },
 "nbformat": 4,
 "nbformat_minor": 2
}
